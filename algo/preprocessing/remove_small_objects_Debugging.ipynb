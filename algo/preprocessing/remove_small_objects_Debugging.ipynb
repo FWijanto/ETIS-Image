{
 "cells": [
  {
   "cell_type": "code",
   "execution_count": 1,
   "id": "2864d1bb-eb0d-4e1b-ab3c-04b622157bfd",
   "metadata": {},
   "outputs": [],
   "source": [
    "import numpy as np\n",
    "import scipy\n",
    "import os\n",
    "from tensorflow.keras.models import load_model"
   ]
  },
  {
   "cell_type": "code",
   "execution_count": 2,
   "id": "0fe05237-93ca-4993-b95f-e1c168466e56",
   "metadata": {},
   "outputs": [],
   "source": [
    "import pickle"
   ]
  },
  {
   "cell_type": "code",
   "execution_count": 3,
   "id": "9ee03cea-b5e1-4490-b5db-f7e42623728f",
   "metadata": {},
   "outputs": [],
   "source": [
    "CodesDir = os.path.dirname(\"D:\\ADS_Algorithm\\ADSv1.3\\codes\\ADS_frontENDIO.py\") + os.path.sep\n",
    "ProjectDir = os.path.join(os.path.sep.join(CodesDir.split(os.path.sep)[0:-2]),'')\n",
    "TemplateDir = os.path.join(ProjectDir,'data','template','')\n",
    "TrainedNetsDir = os.path.join(ProjectDir,'data','Trained_Nets','')\n",
    "AAModelsDir = os.path.join(ProjectDir,'data','AA_models','')"
   ]
  },
  {
   "cell_type": "code",
   "execution_count": 3,
   "id": "14be8b9e-cb5a-4f92-86ba-787a0a4bf162",
   "metadata": {},
   "outputs": [
    {
     "name": "stdout",
     "output_type": "stream",
     "text": [
      "D:\\ADS_Algorithm\\ADSv1.3\\codes\\\n",
      "D:\\ADS_Algorithm\\ADSv1.3\\\n",
      "D:\\ADS_Algorithm\\ADSv1.3\\data\\template\\\n",
      "D:\\ADS_Algorithm\\ADSv1.3\\data\\Trained_Nets\\\n",
      "D:\\ADS_Algorithm\\ADSv1.3\\data\\AA_models\\\n"
     ]
    }
   ],
   "source": [
    "print(CodesDir)\n",
    "print(ProjectDir)\n",
    "print(TemplateDir)\n",
    "print(TrainedNetsDir)\n",
    "print(AAModelsDir)"
   ]
  },
  {
   "cell_type": "code",
   "execution_count": 3,
   "id": "a5aa0b2d-f365-4cd6-bcf1-43c9e8fe3bc2",
   "metadata": {},
   "outputs": [],
   "source": [
    "MaskNet_name =  os.path.join(TrainedNetsDir, 'BrainMaskNet.h5')"
   ]
  },
  {
   "cell_type": "code",
   "execution_count": 4,
   "id": "b1f9e43d-5c2e-4893-9373-19047ac52fda",
   "metadata": {},
   "outputs": [],
   "source": [
    "MaskNet = load_model(MaskNet_name, compile=False)"
   ]
  },
  {
   "cell_type": "code",
   "execution_count": 21,
   "id": "77c285c6-831f-4c99-98d0-ebcdcc83d644",
   "metadata": {},
   "outputs": [],
   "source": [
    "Lesion_model_name = os.path.join(TrainedNetsDir, 'DAGMNet_CH3'+'.h5')"
   ]
  },
  {
   "cell_type": "code",
   "execution_count": 23,
   "id": "ccc8a455-d028-4e3a-b361-0d52fcb4b6f0",
   "metadata": {},
   "outputs": [],
   "source": [
    "Lesion_model = load_model(Lesion_model_name, compile=False)"
   ]
  },
  {
   "cell_type": "code",
   "execution_count": 27,
   "id": "4f848d72-23b7-45fe-8aac-26f6f110d14d",
   "metadata": {},
   "outputs": [
    {
     "name": "stdout",
     "output_type": "stream",
     "text": [
      "<keras.engine.functional.Functional object at 0x00000292ED205540>\n"
     ]
    }
   ],
   "source": [
    "def remove_small_objects(img, remove_max_size=5, structure = np.ones((3,3))):\n",
    "    # remove small objects in prediction\n",
    "    binary = img\n",
    "    binary[binary>0] = 1\n",
    "    labels = np.array(scipy.ndimage.label(binary, structure=structure))[0]\n",
    "    labels_num = [len(labels[labels==each]) for each in np.unique(labels)]\n",
    "    new_img = img\n",
    "    for index in np.unique(labels):\n",
    "        if labels_num[index]<remove_max_size:\n",
    "            new_img[labels==index] = 0\n",
    "    return new_img"
   ]
  },
  {
   "cell_type": "code",
   "execution_count": 40,
   "id": "aaaec214-b681-4f5f-ad91-dd88e74fe75f",
   "metadata": {},
   "outputs": [],
   "source": [
    "img = np.array([[1,0,0,0,0],[0,0,1,1,0],[0,1,1,1,0],[0,0,0,1,0]])"
   ]
  },
  {
   "cell_type": "code",
   "execution_count": 41,
   "id": "72311339-606a-453a-941d-0dd423a09ac8",
   "metadata": {},
   "outputs": [],
   "source": [
    "structure = np.ones((3,3))"
   ]
  },
  {
   "cell_type": "code",
   "execution_count": 44,
   "id": "d5046c6d-8c62-4636-b376-66c58aeb6eb7",
   "metadata": {},
   "outputs": [
    {
     "ename": "ValueError",
     "evalue": "setting an array element with a sequence. The requested array has an inhomogeneous shape after 1 dimensions. The detected shape was (2,) + inhomogeneous part.",
     "output_type": "error",
     "traceback": [
      "\u001b[1;31m---------------------------------------------------------------------------\u001b[0m",
      "\u001b[1;31mValueError\u001b[0m                                Traceback (most recent call last)",
      "Cell \u001b[1;32mIn[44], line 1\u001b[0m\n\u001b[1;32m----> 1\u001b[0m \u001b[43mnp\u001b[49m\u001b[38;5;241;43m.\u001b[39;49m\u001b[43marray\u001b[49m\u001b[43m(\u001b[49m\u001b[43mscipy\u001b[49m\u001b[38;5;241;43m.\u001b[39;49m\u001b[43mndimage\u001b[49m\u001b[38;5;241;43m.\u001b[39;49m\u001b[43mlabel\u001b[49m\u001b[43m(\u001b[49m\u001b[43mimg\u001b[49m\u001b[43m,\u001b[49m\u001b[43m \u001b[49m\u001b[43mstructure\u001b[49m\u001b[38;5;241;43m=\u001b[39;49m\u001b[43mstructure\u001b[49m\u001b[43m)\u001b[49m\u001b[43m)\u001b[49m\n",
      "\u001b[1;31mValueError\u001b[0m: setting an array element with a sequence. The requested array has an inhomogeneous shape after 1 dimensions. The detected shape was (2,) + inhomogeneous part."
     ]
    }
   ],
   "source": [
    "np.array(scipy.ndimage.label(img, structure=structure))"
   ]
  },
  {
   "cell_type": "code",
   "execution_count": 45,
   "id": "be0a0144-4c84-4a1e-9064-d614c290f75a",
   "metadata": {},
   "outputs": [
    {
     "data": {
      "text/plain": [
       "(array([[1, 0, 0, 0, 0],\n",
       "        [0, 0, 2, 2, 0],\n",
       "        [0, 2, 2, 2, 0],\n",
       "        [0, 0, 0, 2, 0]]),\n",
       " 2)"
      ]
     },
     "execution_count": 45,
     "metadata": {},
     "output_type": "execute_result"
    }
   ],
   "source": [
    "scipy.ndimage.label(img, structure=structure)"
   ]
  },
  {
   "cell_type": "code",
   "execution_count": null,
   "id": "e40ef03a-ce14-4146-8f07-8b89928ab9e9",
   "metadata": {},
   "outputs": [],
   "source": []
  }
 ],
 "metadata": {
  "kernelspec": {
   "display_name": "Python 3 (ipykernel)",
   "language": "python",
   "name": "python3"
  },
  "language_info": {
   "codemirror_mode": {
    "name": "ipython",
    "version": 3
   },
   "file_extension": ".py",
   "mimetype": "text/x-python",
   "name": "python",
   "nbconvert_exporter": "python",
   "pygments_lexer": "ipython3",
   "version": "3.11.8"
  }
 },
 "nbformat": 4,
 "nbformat_minor": 5
}
