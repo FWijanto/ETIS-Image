{
 "cells": [
  {
   "cell_type": "code",
   "execution_count": 1,
   "id": "52e9b0ad-4e19-4e47-8e19-884f44e282b0",
   "metadata": {},
   "outputs": [],
   "source": [
    "import scipy\n",
    "import numpy as np\n",
    "from tensorflow.keras.models import load_model"
   ]
  },
  {
   "cell_type": "code",
   "execution_count": null,
   "id": "3873a8a9-ed27-4ed2-a07c-e1cf514501e2",
   "metadata": {},
   "outputs": [],
   "source": [
    "def Stroke_closing(img):\n",
    "    # used to close stroke prediction image\n",
    "    new_img = np.zeros_like(img)\n",
    "    new_img = scipy.ndimage.morphology.binary_closing(img, structure=np.ones((2,2,2)))\n",
    "    return new_img"
   ]
  },
  {
   "cell_type": "code",
   "execution_count": null,
   "id": "809debb0-5456-4a97-ba1a-1c0d059b7689",
   "metadata": {},
   "outputs": [],
   "source": [
    "def get_MaskNet_MNI(model, Dwi_MNI_img, B0_MNI_img):\n",
    "    # To inference brain mask from MaskNet model\n",
    "    # model specifies which pre-trained DL model is used to inference\n",
    "    # Dwi_MNI_img and B0_MNI_img are input images in MNI domain\n",
    "    \n",
    "    # Down sampling\n",
    "    dwi = Dwi_MNI_img[0::4,0::4,0::4,np.newaxis] # Down sample for MaskNet, dim should be [48, 56, 48, 1]\n",
    "    dwi  = (dwi-np.mean(dwi))/np.std(dwi)\n",
    "\n",
    "    b0 = B0_MNI_img[0::4,0::4,0::4, np.newaxis] # Down sample for MaskNet, dim should be [48, 56, 48, 1]\n",
    "    b0  = (b0-np.mean(b0))/np.std(b0)\n",
    "    x = np.expand_dims(np.concatenate((dwi,b0),axis=3), axis=0)\n",
    "\n",
    "    # inference\n",
    "    y_pred = model.predict(x, verbose=0)\n",
    "    y_pred = (np.squeeze(y_pred)>0.5)*1.0\n",
    "\n",
    "    \n",
    "    # the following is post processing of predicted mask by \n",
    "    # 1) selecting the major non-zero voxel\n",
    "    # 2) closing\n",
    "    # 3) binary fill holes\n",
    "    # 4) upsampling to high resolution space by (4,4,4)\n",
    "    \n",
    "    mask_label, num_features = scipy.ndimage.label(y_pred)\n",
    "    dilate_mask = (mask_label == scipy.stats.mode(mask_label[mask_label>0].flatten(), keepdims=True)[0][0])*1\n",
    "    dilate_mask = Stroke_closing(dilate_mask)\n",
    "    dilate_mask = scipy.ndimage.morphology.binary_fill_holes(dilate_mask)\n",
    "    upsampling_mask = np.repeat(np.repeat(np.repeat(dilate_mask, 4, axis=0), 4, axis=1), 4, axis=2)\n",
    "\n",
    "    return upsampling_mask"
   ]
  },
  {
   "cell_type": "code",
   "execution_count": null,
   "id": "5943b471-6868-40c3-85a9-c4b3d09b4f47",
   "metadata": {},
   "outputs": [],
   "source": [
    "MaskNet = load_model(MaskNet_name, compile=False)"
   ]
  },
  {
   "cell_type": "code",
   "execution_count": null,
   "id": "4c98239a-fe55-4f74-b3ea-25ead53d818d",
   "metadata": {},
   "outputs": [],
   "source": [
    "mask_MNI_img = get_MaskNet_MNI(MaskNet, Dwi_MNI_img, B0_MNI_img)\n",
    "mask_raw_img = affine_map.transform_inverse((mask_MNI_img>0.5)*1, interpolation='nearest')\n",
    "mask_raw_img = (mask_raw_img>0.5)*1.0\n",
    "\n",
    "if generate_brainmask:\n",
    "    mask_raw_ImgJ = get_new_NibImgJ(mask_raw_img, Dwi_imgJ, dataType=np.int16)\n",
    "    nib.save(mask_raw_ImgJ, os.path.join(SubjDir, SubjID + '_Mask.nii.gz'))"
   ]
  }
 ],
 "metadata": {
  "kernelspec": {
   "display_name": "Python 3 (ipykernel)",
   "language": "python",
   "name": "python3"
  },
  "language_info": {
   "codemirror_mode": {
    "name": "ipython",
    "version": 3
   },
   "file_extension": ".py",
   "mimetype": "text/x-python",
   "name": "python",
   "nbconvert_exporter": "python",
   "pygments_lexer": "ipython3",
   "version": "3.11.8"
  }
 },
 "nbformat": 4,
 "nbformat_minor": 5
}
